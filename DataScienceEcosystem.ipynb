{
 "cells": [
  {
   "cell_type": "markdown",
   "id": "5f516212-47e3-417c-b2c0-d208cb386fa1",
   "metadata": {},
   "source": [
    "# Data Science Tools and Ecosystem"
   ]
  },
  {
   "cell_type": "markdown",
   "id": "b5d492c0-919e-411d-9a3a-b2f87b5d0722",
   "metadata": {},
   "source": [
    "In this notebook, Data Science Tools and Ecosystem are summarized."
   ]
  },
  {
   "cell_type": "markdown",
   "id": "cfca3983-76f9-4a99-8cde-a8a0dbc1e444",
   "metadata": {},
   "source": [
    "**Objectives:**\n",
    "\n",
    "In this notebook, Data Science Tools and Ecosystem are summarized.\n",
    "such as\n",
    "- Data Science Languages\n",
    "- Data Science Tools\n",
    "- Data Science Libraries\n",
    "- Evaluating Expression in Python"
   ]
  },
  {
   "cell_type": "markdown",
   "id": "c6e7fcc3-e673-48cb-a5c7-fbe13bd66ee1",
   "metadata": {
    "tags": []
   },
   "source": [
    "Some of the popular languages that Data Scientists use are:\n",
    "1. Python\n",
    "2. R\n",
    "3. Java\n",
    "4. Scala\n",
    "5. JavaScript\n",
    "6. SQL\n",
    "7. Julia\n"
   ]
  },
  {
   "cell_type": "markdown",
   "id": "d762c538-de95-47be-ad6c-4e8d1f92576d",
   "metadata": {},
   "source": [
    "Some of the commonly used libraries used by Data Scientists include:\n",
    "1. Matplotlib\n",
    "2. Pandas\n",
    "3. Scikit-learn\n",
    "4. NumPy\n"
   ]
  },
  {
   "cell_type": "markdown",
   "id": "c9ff43dc-ee40-43b0-aa77-9647d367bdde",
   "metadata": {},
   "source": [
    "|Data Science Tools| \n",
    "| ------ | \n",
    "| Apache Spark | \n",
    "|TensorFlow | \n",
    "| Jupyter Notebook| \n",
    "| SAS | \n"
   ]
  },
  {
   "cell_type": "markdown",
   "id": "6c2465f5-3355-4694-a3a6-23cb6bf4aacb",
   "metadata": {},
   "source": [
    "### Below are a few examples of evaluating arithmetic expressions in Python\n"
   ]
  },
  {
   "cell_type": "code",
   "execution_count": 6,
   "id": "e8a78446-e664-4f09-85a5-ce635aa9fabf",
   "metadata": {
    "tags": []
   },
   "outputs": [
    {
     "data": {
      "text/plain": [
       "17"
      ]
     },
     "execution_count": 6,
     "metadata": {},
     "output_type": "execute_result"
    }
   ],
   "source": [
    "##  This a simple arithmetic expression to mutiply then add integers\n",
    "(3*4)+5"
   ]
  },
  {
   "cell_type": "code",
   "execution_count": 9,
   "id": "9722ca2a-0020-4cd9-b5cf-fb2bb4683cd3",
   "metadata": {
    "tags": []
   },
   "outputs": [
    {
     "data": {
      "text/plain": [
       "3.3333333333333335"
      ]
     },
     "execution_count": 9,
     "metadata": {},
     "output_type": "execute_result"
    }
   ],
   "source": [
    "## This will convert 200 minutes to hours by diving by 60.\n",
    "200/60"
   ]
  },
  {
   "cell_type": "markdown",
   "id": "47bd212b-605d-4514-9944-f01134e9c454",
   "metadata": {},
   "source": [
    "## Author \n",
    "Tasneem Saeed"
   ]
  },
  {
   "cell_type": "code",
   "execution_count": null,
   "id": "9839e93f-ac08-4b7e-9aa1-4f88e0f3eb6b",
   "metadata": {},
   "outputs": [],
   "source": []
  }
 ],
 "metadata": {
  "kernelspec": {
   "display_name": "Python",
   "language": "python",
   "name": "conda-env-python-py"
  },
  "language_info": {
   "codemirror_mode": {
    "name": "ipython",
    "version": 3
   },
   "file_extension": ".py",
   "mimetype": "text/x-python",
   "name": "python",
   "nbconvert_exporter": "python",
   "pygments_lexer": "ipython3",
   "version": "3.7.12"
  }
 },
 "nbformat": 4,
 "nbformat_minor": 5
}
